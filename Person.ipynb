{
 "cells": [
  {
   "cell_type": "code",
   "execution_count": 42,
   "metadata": {},
   "outputs": [],
   "source": [
    "import numpy as np\n",
    "import random as random\n",
    "import pandas as pd\n",
    "import string\n",
    "import matplotlib\n",
    "import matplotlib.pyplot as plt\n",
    "%matplotlib inline\n",
    "import seaborn as sns\n",
    "sns.set()"
   ]
  },
  {
   "cell_type": "code",
   "execution_count": 43,
   "metadata": {},
   "outputs": [],
   "source": [
    "Nepal={\n",
    "    \"PN1\":('Bhojpur','Dhankuta', 'Ilam','Jhapa', 'Khotang','Morang', 'Okhaldhunga','Panchthar', 'Sankhauasabha', 'Solukhumbu', 'Sunsari', 'Taplejung', 'Terhathum', 'Udayapur'),\n",
    "    \"PN2\":('Saptari','Parsa','Bara','Siraha','Dhanusha','Rautahat','Mahottari'),\n",
    "    \"PN3\":('Bhaktapur','Chitwan','Dhading', 'Dolakha','Kathmandu','Kavrepalanchok','Lalitpur', 'Makwanpur', 'Nukuwot', 'Ramechaap','Rasuwa', 'Sindhuli', 'Sindupalchok'),\n",
    "    \"PN4\":('Baglung', 'Gorkha','Kaski', 'Lamjung', 'Manang', 'Mustang', 'Myagdi', 'Nawalpur', 'Parbat', 'Syangja', 'Tanahun'),\n",
    "    \"PN5\":('Arghakhanchi', 'Banke', 'Bardiya', 'Dang', 'Eastern_Rukum', 'Gulmi', 'Kapilvastu','Parasi', 'Palpa', 'Pyuthan', 'Rolpa', 'Rupandehi'),\n",
    "    \"PN6\":('Dailekh', 'Dolpa', 'Humla', 'Jajarkot', 'Jumla', 'Kalikot', 'Mugu', 'Salyan', 'Surkhet', 'Western_Rukum'),\n",
    "    \"PN7\":('Achham', 'Baitadi', 'Bajhang', 'Bajura', 'Dadeldhura', 'Darchula', 'Doti','Kailali', 'Kanchanpur'),\n",
    "\n",
    "}"
   ]
  },
  {
   "cell_type": "code",
   "execution_count": 44,
   "metadata": {},
   "outputs": [],
   "source": [
    "Profession=['Agriculture','Construction','Health','Education','Research','Sports','Business']"
   ]
  },
  {
   "cell_type": "code",
   "execution_count": 45,
   "metadata": {},
   "outputs": [],
   "source": [
    "SW={\n",
    "    \"Cause-1\": ('Earthquake Relief'),\n",
    "    \"Cause-2\": ('Flood Relief'),\n",
    "    \"Cause-3\": ('Tree planting'),\n",
    "    \"Cause-4\": ('Build School'),\n",
    "    \"Cause-5\": ('Build Hospital'),\n",
    "    \"Cause-6\": ('Build IT center')\n",
    "}"
   ]
  },
  {
   "cell_type": "code",
   "execution_count": 46,
   "metadata": {},
   "outputs": [],
   "source": [
    "Foreigns=pd.read_csv('country.txt',sep='\\t', engine='python')\n",
    "Foreigns=Foreigns.set_index('Full_Name')\n",
    "#Foreigns.head()"
   ]
  },
  {
   "cell_type": "code",
   "execution_count": 53,
   "metadata": {},
   "outputs": [],
   "source": [
    "class Person(object):\n",
    "    def __init__(self):\n",
    "        self.name=str()\n",
    "        self.age=int()\n",
    "        self.current_add=dict()\n",
    "        self.home_add=dict()\n",
    "        self.Skill=str()\n",
    "        self.fund=dict()\n",
    "        self.Int=dict()\n",
    "        self.RY=str()\n",
    "        self.sw=dict()\n",
    "        \n",
    "    def urname(self):\n",
    "        self.name=''.join(random.choices(string.ascii_uppercase, k=8))\n",
    "        return self.name\n",
    "    \n",
    "    def urage(self):\n",
    "        self.age=random.randint(4,56)\n",
    "        return self.age\n",
    "    \n",
    "    def foreign(self):\n",
    "        self.current_add=Foreigns.sample(n=1)\n",
    "        return self.current_add\n",
    "    \n",
    "    def Ho_Ad(self):\n",
    "        One_key=random.choice(list(Nepal.items()))\n",
    "        #print (One_key[0],random.choice(One_key[1]))\n",
    "        self.home_add={\"Province\":One_key[0],\"District\":random.choice(One_key[1])}\n",
    "        return self.home_add\n",
    "    \n",
    "    def urprof(self):\n",
    "        self.Skill=random.choice(Profession)\n",
    "        return self.Skill\n",
    "    \n",
    "    def urFunds(self):\n",
    "        N=random.randint(1000,100000)\n",
    "        Agriculture=(0.3*N)\n",
    "        Electricity=0.2*N\n",
    "        IT=0.2*N\n",
    "        Share=0.2*N\n",
    "        Food=0.1*N\n",
    "        self.fund= {\"Fund_Total\":N,\n",
    "                    \"Agriculture\":round(Agriculture,2),\n",
    "                    \"Utilites\":round(Electricity,2),\n",
    "                    \"Education\":round(IT,2),\n",
    "                    \"Share\":round(Share,2),\n",
    "                    \"Food\":round(Food,2)\n",
    "                   }\n",
    "        return self.fund\n",
    "    \n",
    "    def urInt(self):\n",
    "        N=100\n",
    "        Agr=random.randint(0,100)*N/100\n",
    "        Temp = N-Agr\n",
    "        Polit=random.randint(0,100)*Temp/100\n",
    "        Temp=Temp-Polit\n",
    "        IT=random.randint(0,100)*Temp/100\n",
    "        Temp=Temp-IT\n",
    "        Share=random.randint(0,100)*Temp/100\n",
    "        Temp=Temp-Share\n",
    "        Food=Temp\n",
    "        self.Int= {\"Agriculture(%)\":round(Agr,2),\n",
    "                   \"Politics(%)\":round(Polit,2),\n",
    "                   \"IT(%)\":round(IT,2),\n",
    "                   \"Share(%)\":round(Share,2),\n",
    "                   \"Food_Ind(%)\":round(Food,2)\n",
    "                   }\n",
    "        return self.Int\n",
    "        \n",
    "    \n",
    "    def Return_Yr(self):\n",
    "        self.RY=random.randint(2019,2050)\n",
    "        return self.RY\n",
    "    \n",
    "    def Social_Works(self):\n",
    "        ee=random.choice(list(SW.items()))\n",
    "        self.sw=ee[1]\n",
    "        return self.sw\n",
    "        "
   ]
  },
  {
   "cell_type": "code",
   "execution_count": 54,
   "metadata": {},
   "outputs": [],
   "source": [
    "#Person().urage(),Person().urname(),Person().foreign(),Person().Ho_Ad()"
   ]
  },
  {
   "cell_type": "code",
   "execution_count": 55,
   "metadata": {},
   "outputs": [],
   "source": [
    "#Person().urprof(), Person().urFunds(), Person().urInt()"
   ]
  },
  {
   "cell_type": "code",
   "execution_count": 56,
   "metadata": {},
   "outputs": [],
   "source": [
    "#Person().Return_Yr(), Person().Social_Works()"
   ]
  },
  {
   "cell_type": "code",
   "execution_count": 57,
   "metadata": {},
   "outputs": [
    {
     "data": {
      "text/html": [
       "<div>\n",
       "<style scoped>\n",
       "    .dataframe tbody tr th:only-of-type {\n",
       "        vertical-align: middle;\n",
       "    }\n",
       "\n",
       "    .dataframe tbody tr th {\n",
       "        vertical-align: top;\n",
       "    }\n",
       "\n",
       "    .dataframe thead th {\n",
       "        text-align: right;\n",
       "    }\n",
       "</style>\n",
       "<table border=\"1\" class=\"dataframe\">\n",
       "  <thead>\n",
       "    <tr style=\"text-align: right;\">\n",
       "      <th></th>\n",
       "      <th>0</th>\n",
       "    </tr>\n",
       "  </thead>\n",
       "  <tbody>\n",
       "    <tr>\n",
       "      <th>0</th>\n",
       "      <td>LLVJGPLB</td>\n",
       "    </tr>\n",
       "    <tr>\n",
       "      <th>1</th>\n",
       "      <td>21</td>\n",
       "    </tr>\n",
       "    <tr>\n",
       "      <th>2</th>\n",
       "      <td>Code        Lat       Long\n",
       "Full_Name                           \n",
       "Albania    AL   41.153332  20.168331</td>\n",
       "    </tr>\n",
       "    <tr>\n",
       "      <th>3</th>\n",
       "      <td>{'Province': 'PN2', 'District': 'Saptari'}</td>\n",
       "    </tr>\n",
       "    <tr>\n",
       "      <th>4</th>\n",
       "      <td>2049</td>\n",
       "    </tr>\n",
       "    <tr>\n",
       "      <th>5</th>\n",
       "      <td>Flood Relief</td>\n",
       "    </tr>\n",
       "    <tr>\n",
       "      <th>6</th>\n",
       "      <td>Research</td>\n",
       "    </tr>\n",
       "    <tr>\n",
       "      <th>7</th>\n",
       "      <td>{'Fund_Total': 1274, 'Agriculture': 382.2, 'Utilites': 254.8, 'Education': 254.8, 'Share': 254.8, 'Food': 127.4}</td>\n",
       "    </tr>\n",
       "    <tr>\n",
       "      <th>8</th>\n",
       "      <td>{'Agriculture(%)': 62.0, 'Politics(%)': 1.9, 'IT(%)': 24.55, 'Share(%)': 6.82, 'Food_Ind(%)': 4.74}</td>\n",
       "    </tr>\n",
       "  </tbody>\n",
       "</table>\n",
       "</div>"
      ],
      "text/plain": [
       "                                                                                                                  0\n",
       "0  LLVJGPLB                                                                                                        \n",
       "1  21                                                                                                              \n",
       "2            Code        Lat       Long\n",
       "Full_Name                           \n",
       "Albania    AL   41.153332  20.168331  \n",
       "3  {'Province': 'PN2', 'District': 'Saptari'}                                                                      \n",
       "4  2049                                                                                                            \n",
       "5  Flood Relief                                                                                                    \n",
       "6  Research                                                                                                        \n",
       "7  {'Fund_Total': 1274, 'Agriculture': 382.2, 'Utilites': 254.8, 'Education': 254.8, 'Share': 254.8, 'Food': 127.4}\n",
       "8  {'Agriculture(%)': 62.0, 'Politics(%)': 1.9, 'IT(%)': 24.55, 'Share(%)': 6.82, 'Food_Ind(%)': 4.74}             "
      ]
     },
     "execution_count": 57,
     "metadata": {},
     "output_type": "execute_result"
    }
   ],
   "source": [
    "Migration=pd.DataFrame([Person().urname(),Person().urage(),Person().foreign(),Person().Ho_Ad(),Person().Return_Yr(), Person().Social_Works(),Person().urprof(), Person().urFunds(), Person().urInt()])\n",
    "Migration"
   ]
  },
  {
   "cell_type": "code",
   "execution_count": 61,
   "metadata": {},
   "outputs": [],
   "source": [
    "BigData=[]\n",
    "N=3\n",
    "for i in range(N):\n",
    "    Migrations=[Person().urname(),Person().urage(),Person().foreign(),Person().Ho_Ad(),Person().Return_Yr(), Person().Social_Works(),Person().urprof(), Person().urFunds(), Person().urInt()]\n",
    "    BigData.append(pd.DataFrame(Migrations))\n",
    "    i=i+1\n"
   ]
  },
  {
   "cell_type": "code",
   "execution_count": 62,
   "metadata": {},
   "outputs": [
    {
     "name": "stdout",
     "output_type": "stream",
     "text": [
      "[                                                                                                                         0\n",
      "0  NOBOZQUS                                                                                                               \n",
      "1  18                                                                                                                     \n",
      "2            Code        Lat       Long\n",
      "Full_Name                           \n",
      "Jordan     JO   30.585164  36.238414         \n",
      "3  {'Province': 'PN5', 'District': 'Dang'}                                                                                \n",
      "4  2023                                                                                                                   \n",
      "5  Build IT center                                                                                                        \n",
      "6  Agriculture                                                                                                            \n",
      "7  {'Fund_Total': 40552, 'Agriculture': 12165.6, 'Utilites': 8110.4, 'Education': 8110.4, 'Share': 8110.4, 'Food': 4055.2}\n",
      "8  {'Agriculture(%)': 56.0, 'Politics(%)': 22.0, 'IT(%)': 6.82, 'Share(%)': 13.36, 'Food_Ind(%)': 1.82}                   ,                                                                                                                       0\n",
      "0  AIKNSOVU                                                                                                            \n",
      "1  46                                                                                                                  \n",
      "2            Code        Lat       Long\n",
      "Full_Name                           \n",
      "Argentina  AR  -38.416097 -63.616672      \n",
      "3  {'Province': 'PN5', 'District': 'Arghakhanchi'}                                                                     \n",
      "4  2020                                                                                                                \n",
      "5  Flood Relief                                                                                                        \n",
      "6  Research                                                                                                            \n",
      "7  {'Fund_Total': 5107, 'Agriculture': 1532.1, 'Utilites': 1021.4, 'Education': 1021.4, 'Share': 1021.4, 'Food': 510.7}\n",
      "8  {'Agriculture(%)': 64.0, 'Politics(%)': 10.8, 'IT(%)': 7.81, 'Share(%)': 7.65, 'Food_Ind(%)': 9.74}                 ,                                                                                                                         0\n",
      "0  VCHJNNXL                                                                                                              \n",
      "1  24                                                                                                                    \n",
      "2            Code        Lat       Long\n",
      "Full_Name                           \n",
      "Botswana   BW  -22.328474  24.684866        \n",
      "3  {'Province': 'PN1', 'District': 'Okhaldhunga'}                                                                        \n",
      "4  2036                                                                                                                  \n",
      "5  Build Hospital                                                                                                        \n",
      "6  Health                                                                                                                \n",
      "7  {'Fund_Total': 29516, 'Agriculture': 8854.8, 'Utilites': 5903.2, 'Education': 5903.2, 'Share': 5903.2, 'Food': 2951.6}\n",
      "8  {'Agriculture(%)': 98.0, 'Politics(%)': 1.22, 'IT(%)': 0.31, 'Share(%)': 0.32, 'Food_Ind(%)': 0.15}                   ]\n"
     ]
    }
   ],
   "source": [
    "pd.set_option('display.max_columns', None)  # or 1000\n",
    "print (BigData)"
   ]
  },
  {
   "cell_type": "code",
   "execution_count": null,
   "metadata": {},
   "outputs": [],
   "source": []
  },
  {
   "cell_type": "code",
   "execution_count": null,
   "metadata": {},
   "outputs": [],
   "source": []
  }
 ],
 "metadata": {
  "kernelspec": {
   "display_name": "Python 3",
   "language": "python",
   "name": "python3"
  },
  "language_info": {
   "codemirror_mode": {
    "name": "ipython",
    "version": 3
   },
   "file_extension": ".py",
   "mimetype": "text/x-python",
   "name": "python",
   "nbconvert_exporter": "python",
   "pygments_lexer": "ipython3",
   "version": "3.7.1"
  }
 },
 "nbformat": 4,
 "nbformat_minor": 2
}
