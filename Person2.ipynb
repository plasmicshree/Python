{
 "cells": [
  {
   "cell_type": "code",
   "execution_count": 58,
   "metadata": {},
   "outputs": [],
   "source": [
    "import numpy as np\n",
    "import random as random\n",
    "import pandas as pd\n",
    "import string\n",
    "import pprint\n",
    "from datetime import datetime, timedelta\n",
    "import matplotlib\n",
    "import matplotlib.pyplot as plt\n",
    "%matplotlib inline\n",
    "import seaborn as sns\n",
    "sns.set()"
   ]
  },
  {
   "cell_type": "code",
   "execution_count": 59,
   "metadata": {},
   "outputs": [],
   "source": [
    "import json\n",
    "with open ('NepalG.json','r') as f:\n",
    "    NepalG = json.load(f)"
   ]
  },
  {
   "cell_type": "code",
   "execution_count": 60,
   "metadata": {},
   "outputs": [],
   "source": [
    "with open ('profession.json','r') as f:\n",
    "    Profession = json.load(f)\n",
    "#Profession=['Agriculture','Construction','Health','Education','Research','Sports','Business']"
   ]
  },
  {
   "cell_type": "code",
   "execution_count": 61,
   "metadata": {},
   "outputs": [],
   "source": [
    "SW={\n",
    "    \"Cause-1\": ('Earthquake Relief'),\n",
    "    \"Cause-2\": ('Flood Relief'),\n",
    "    \"Cause-3\": ('Tree planting'),\n",
    "    \"Cause-4\": ('Build School'),\n",
    "    \"Cause-5\": ('Build Hospital'),\n",
    "    \"Cause-6\": ('Build IT center')\n",
    "}"
   ]
  },
  {
   "cell_type": "code",
   "execution_count": 62,
   "metadata": {},
   "outputs": [],
   "source": [
    "d=[]\n",
    "with open(\"country.txt\") as f:\n",
    "    next(f)\n",
    "    for line in f:\n",
    "        d.append(line)\n"
   ]
  },
  {
   "cell_type": "code",
   "execution_count": 120,
   "metadata": {},
   "outputs": [],
   "source": [
    "class Person(object):\n",
    "    def __init__(self):\n",
    "        self.name=dict()\n",
    "        self.age=int()\n",
    "        self.current_add=dict()\n",
    "        self.home_add=dict()\n",
    "        self.Skill=str()\n",
    "        self.fund=dict()\n",
    "        self.Int=dict()\n",
    "        self.RY=str()\n",
    "        self.sw=str()\n",
    "        \n",
    "    def urname(self):\n",
    "        self.name=str(\"\".join(random.choices(string.ascii_uppercase, k=8)))\n",
    "        return self.name\n",
    "    \n",
    "    def urage(self):\n",
    "        self.age=random.randint(18,60)\n",
    "        return self.age\n",
    "    \n",
    "    def foreign(self):\n",
    "        full=random.choice(d)\n",
    "        #print (full)\n",
    "        full1=full.split(\"\\t\")\n",
    "        self.current_add = {\"Code\":full1[0],\n",
    "                            \"Lat\":full1[1],\n",
    "                            \"Long\":full1[2],\n",
    "                            \"FullName\":full1[3]\n",
    "                           }\n",
    "        \n",
    "        return self.current_add\n",
    "    \n",
    "    def Ho_Ad(self):\n",
    "     \n",
    "        Wall=random.choice(list(NepalG.keys()))\n",
    "        Wall1=random.choice(list(NepalG[Wall].keys()))\n",
    "        Wall2=random.choice(list(NepalG[Wall][Wall1].keys()))\n",
    "        Wall3=random.choice(list(NepalG[Wall][Wall1][Wall2]))\n",
    "        #print (Wall, Wall1, Wall2, Wall3)\n",
    "        self.home_add={\"Province\":Wall,\n",
    "                       \"District\":Wall1,\n",
    "                       \"MCP/RM\":Wall2,\n",
    "                       \"Ward\":Wall3}\n",
    "        return self.home_add\n",
    "    \n",
    "    def urprof(self):\n",
    "        Wall=random.choice(list(Profession.keys()))\n",
    "        #print (Wall)\n",
    "        Wall1=random.choice(list(Profession[Wall]))\n",
    "        #print (Wall1)\n",
    "        self.Skill={\"Occupation\":Wall,\\\n",
    "                    \"Specialization\":Wall1\n",
    "                   }\n",
    "        return self.Skill\n",
    "    \n",
    "    def urFunds(self):\n",
    "        N=random.randint(1000,100000)\n",
    "        Agriculture=(0.3*N)\n",
    "        Electricity=0.2*N\n",
    "        IT=0.2*N\n",
    "        Share=0.2*N\n",
    "        Food=0.1*N\n",
    "        self.fund= {\"Fund_Total\":N,\n",
    "                    \"Agriculture\":round(Agriculture,2),\n",
    "                    \"Utilites\":round(Electricity,2),\n",
    "                    \"Education\":round(IT,2),\n",
    "                    \"Share\":round(Share,2),\n",
    "                    \"Food\":round(Food,2)\n",
    "                   }\n",
    "        return self.fund\n",
    "    \n",
    "    def urInt(self):\n",
    "        N=100\n",
    "        Agr=random.randint(0,100)*N/100\n",
    "        Temp = N-Agr\n",
    "        Polit=random.randint(0,100)*Temp/100\n",
    "        Temp=Temp-Polit\n",
    "        IT=random.randint(0,100)*Temp/100\n",
    "        Temp=Temp-IT\n",
    "        Share=random.randint(0,100)*Temp/100\n",
    "        Temp=Temp-Share\n",
    "        Food=Temp\n",
    "        self.Int= {\"Agriculture(%)\":round(Agr,2),\n",
    "                   \"Politics(%)\":round(Polit,2),\n",
    "                   \"IT(%)\":round(IT,2),\n",
    "                   \"Share(%)\":round(Share,2),\n",
    "                   \"Food_Ind(%)\":round(Food,2)}\n",
    "                   \n",
    "        return self.Int\n",
    "        \n",
    "    \n",
    "    def Return_Yr(self):\n",
    "        start =datetime.now()\n",
    "        #print ('Start:',start)\n",
    "        end = start + timedelta(days=30*365)\n",
    "        #print ('End:',end)\n",
    "        random_date=(start +(end-start)*random.random())\n",
    "        self.RY=str(random_date.strftime('%Y-%m-%d'))\n",
    "        return str(self.RY)\n",
    "    \n",
    "    def Social_Works(self):\n",
    "        ee=random.choice(list(SW.items()))\n",
    "        self.sw=ee[1]\n",
    "        return self.sw\n",
    "        "
   ]
  },
  {
   "cell_type": "code",
   "execution_count": 121,
   "metadata": {},
   "outputs": [],
   "source": [
    "#Person().urage(),Person().urname(),Person().foreign(),Person().Ho_Ad()"
   ]
  },
  {
   "cell_type": "code",
   "execution_count": 122,
   "metadata": {},
   "outputs": [],
   "source": [
    "#Person().urprof(), Person().urFunds(), Person().urInt()"
   ]
  },
  {
   "cell_type": "code",
   "execution_count": 123,
   "metadata": {},
   "outputs": [],
   "source": [
    "#Person().Return_Yr(), Person().Social_Works()"
   ]
  },
  {
   "cell_type": "code",
   "execution_count": 124,
   "metadata": {
    "scrolled": true
   },
   "outputs": [],
   "source": [
    "#Migration=pd.DataFrame([Person().urname(),Person().urage(),Person().foreign(),Person().Ho_Ad(),Person().Return_Yr(), Person().Social_Works(),Person().urprof(), Person().urFunds(), Person().urInt()])\n",
    "#Migration\n",
    "#print (type(Migration))\n"
   ]
  },
  {
   "cell_type": "code",
   "execution_count": 138,
   "metadata": {},
   "outputs": [],
   "source": [
    "BigData=[]\n",
    "N=1\n",
    "for i in range(N):\n",
    "    #Migrations=[Person().urname(),Person().urage(),Person().foreign(),Person().Ho_Ad(),Person().Return_Yr(), Person().Social_Works(),Person().urprof(), Person().urFunds(), Person().urInt()]\n",
    "    BigData.append({\"Name\":Person().urname(),\\\n",
    "                    \"Age\":Person().urage(),\\\n",
    "                    \"Foreign_Address\":Person().foreign(),\\\n",
    "                    \"Home Address\":Person().Ho_Ad(),\\\n",
    "                    \"Return_Year\":Person().Return_Yr(),\\\n",
    "                    \"Social_Work\":Person().Social_Works(),\\\n",
    "                    \"Profession\":Person().urprof(),\\\n",
    "                    \"Funds_to_Invest\":Person().urFunds(),\\\n",
    "                    \"Intrests\":Person().urInt()\n",
    "                   })\n",
    "    i=i+1\n"
   ]
  },
  {
   "cell_type": "code",
   "execution_count": 139,
   "metadata": {
    "scrolled": true
   },
   "outputs": [],
   "source": [
    "#pd.set_option('display.max_columns', None)  # or 1000\n",
    "#print (type(BigData))\n",
    "#print (BigData)\n"
   ]
  },
  {
   "cell_type": "code",
   "execution_count": 140,
   "metadata": {},
   "outputs": [],
   "source": [
    "with open('DataFinal.json','w') as f:\n",
    "    json.dump(BigData,f)"
   ]
  },
  {
   "cell_type": "code",
   "execution_count": null,
   "metadata": {},
   "outputs": [],
   "source": []
  },
  {
   "cell_type": "code",
   "execution_count": null,
   "metadata": {},
   "outputs": [],
   "source": []
  }
 ],
 "metadata": {
  "kernelspec": {
   "display_name": "Python 3",
   "language": "python",
   "name": "python3"
  },
  "language_info": {
   "codemirror_mode": {
    "name": "ipython",
    "version": 3
   },
   "file_extension": ".py",
   "mimetype": "text/x-python",
   "name": "python",
   "nbconvert_exporter": "python",
   "pygments_lexer": "ipython3",
   "version": "3.7.1"
  }
 },
 "nbformat": 4,
 "nbformat_minor": 2
}
