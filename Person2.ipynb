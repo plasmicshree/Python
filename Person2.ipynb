{
 "cells": [
  {
   "cell_type": "code",
   "execution_count": 5,
   "metadata": {},
   "outputs": [],
   "source": [
    "import numpy as np\n",
    "import random as random\n",
    "import pandas as pd\n",
    "import string\n",
    "import pprint\n",
    "import matplotlib\n",
    "import matplotlib.pyplot as plt\n",
    "%matplotlib inline\n",
    "import seaborn as sns\n",
    "sns.set()"
   ]
  },
  {
   "cell_type": "code",
   "execution_count": 6,
   "metadata": {},
   "outputs": [],
   "source": [
    "import json\n",
    "with open ('NepalG.json','r') as f:\n",
    "    NepalG = json.load(f)"
   ]
  },
  {
   "cell_type": "code",
   "execution_count": 7,
   "metadata": {},
   "outputs": [],
   "source": [
    "with open ('profession.json','r') as f:\n",
    "    Profession = json.load(f)\n",
    "#Profession=['Agriculture','Construction','Health','Education','Research','Sports','Business']"
   ]
  },
  {
   "cell_type": "code",
   "execution_count": 8,
   "metadata": {},
   "outputs": [],
   "source": [
    "SW={\n",
    "    \"Cause-1\": ('Earthquake Relief'),\n",
    "    \"Cause-2\": ('Flood Relief'),\n",
    "    \"Cause-3\": ('Tree planting'),\n",
    "    \"Cause-4\": ('Build School'),\n",
    "    \"Cause-5\": ('Build Hospital'),\n",
    "    \"Cause-6\": ('Build IT center')\n",
    "}"
   ]
  },
  {
   "cell_type": "code",
   "execution_count": 9,
   "metadata": {},
   "outputs": [],
   "source": [
    "d=[]\n",
    "with open(\"country.txt\") as f:\n",
    "    next(f)\n",
    "    for line in f:\n",
    "        d.append(line)\n"
   ]
  },
  {
   "cell_type": "code",
   "execution_count": 55,
   "metadata": {},
   "outputs": [],
   "source": [
    "class Person(object):\n",
    "    def __init__(self):\n",
    "        self.name=dict()\n",
    "        self.age=dict()\n",
    "        self.current_add=dict()\n",
    "        self.home_add=dict()\n",
    "        self.Skill=str()\n",
    "        self.fund=dict()\n",
    "        self.Int=dict()\n",
    "        self.RY=dict()\n",
    "        self.sw=dict()\n",
    "        \n",
    "    def urname(self):\n",
    "        self.name=str(\"\".join(random.choices(string.ascii_uppercase, k=8)))\n",
    "        return self.name\n",
    "    \n",
    "    def urage(self):\n",
    "        self.age={random.randint(18,60)}\n",
    "        return self.age\n",
    "    \n",
    "    def foreign(self):\n",
    "        full=random.choice(d)\n",
    "        #print (full)\n",
    "        full1=full.split(\"\\t\")\n",
    "        self.current_add = {\"Code\":full1[0],\n",
    "                            \"Lat\":full1[1],\n",
    "                            \"Long\":full1[2],\n",
    "                            \"FullName\":full1[3]\n",
    "                           }\n",
    "        \n",
    "        return self.current_add\n",
    "    \n",
    "    def Ho_Ad(self):\n",
    "     \n",
    "        Wall=random.choice(list(NepalG.keys()))\n",
    "        Wall1=random.choice(list(NepalG[Wall].keys()))\n",
    "        Wall2=random.choice(list(NepalG[Wall][Wall1].keys()))\n",
    "        Wall3=random.choice(list(NepalG[Wall][Wall1][Wall2]))\n",
    "        #print (Wall, Wall1, Wall2, Wall3)\n",
    "        self.home_add={\"Province\":Wall,\n",
    "                       \"District\":Wall1,\n",
    "                       \"MCP/RM\":Wall2,\n",
    "                       \"Ward\":Wall3}\n",
    "        return self.home_add\n",
    "    \n",
    "    def urprof(self):\n",
    "        Wall=random.choice(list(Profession.keys()))\n",
    "        #print (Wall)\n",
    "        Wall1=random.choice(list(Profession[Wall]))\n",
    "        #print (Wall1)\n",
    "        self.Skill={\"Occupation\":Wall,\\\n",
    "                    \"Specialization\":Wall1\n",
    "                   }\n",
    "        return self.Skill\n",
    "    \n",
    "    def urFunds(self):\n",
    "        N=random.randint(1000,100000)\n",
    "        Agriculture=(0.3*N)\n",
    "        Electricity=0.2*N\n",
    "        IT=0.2*N\n",
    "        Share=0.2*N\n",
    "        Food=0.1*N\n",
    "        self.fund= {\"Fund_Total\":N,\n",
    "                    \"Agriculture\":round(Agriculture,2),\n",
    "                    \"Utilites\":round(Electricity,2),\n",
    "                    \"Education\":round(IT,2),\n",
    "                    \"Share\":round(Share,2),\n",
    "                    \"Food\":round(Food,2)\n",
    "                   }\n",
    "        return self.fund\n",
    "    \n",
    "    def urInt(self):\n",
    "        N=100\n",
    "        Agr=random.randint(0,100)*N/100\n",
    "        Temp = N-Agr\n",
    "        Polit=random.randint(0,100)*Temp/100\n",
    "        Temp=Temp-Polit\n",
    "        IT=random.randint(0,100)*Temp/100\n",
    "        Temp=Temp-IT\n",
    "        Share=random.randint(0,100)*Temp/100\n",
    "        Temp=Temp-Share\n",
    "        Food=Temp\n",
    "        self.Int= {\"Agriculture(%)\":round(Agr,2),\n",
    "                   \"Politics(%)\":round(Polit,2),\n",
    "                   \"IT(%)\":round(IT,2),\n",
    "                   \"Share(%)\":round(Share,2),\n",
    "                   \"Food_Ind(%)\":round(Food,2)}\n",
    "                   \n",
    "        return self.Int\n",
    "        \n",
    "    \n",
    "    def Return_Yr(self):\n",
    "        self.RY={\"Return Year\":random.randint(2019,2050)}\n",
    "        return self.RY\n",
    "    \n",
    "    def Social_Works(self):\n",
    "        ee=random.choice(list(SW.items()))\n",
    "        self.sw=ee[1]\n",
    "        return self.sw\n",
    "        "
   ]
  },
  {
   "cell_type": "code",
   "execution_count": 56,
   "metadata": {},
   "outputs": [],
   "source": [
    "#Person().urage(),Person().urname(),Person().foreign(),Person().Ho_Ad()"
   ]
  },
  {
   "cell_type": "code",
   "execution_count": 57,
   "metadata": {},
   "outputs": [],
   "source": [
    "#Person().urprof(), Person().urFunds(), Person().urInt()"
   ]
  },
  {
   "cell_type": "code",
   "execution_count": 58,
   "metadata": {},
   "outputs": [],
   "source": [
    "#Person().Return_Yr(), Person().Social_Works()"
   ]
  },
  {
   "cell_type": "code",
   "execution_count": 59,
   "metadata": {
    "scrolled": true
   },
   "outputs": [],
   "source": [
    "#Migration=pd.DataFrame([Person().urname(),Person().urage(),Person().foreign(),Person().Ho_Ad(),Person().Return_Yr(), Person().Social_Works(),Person().urprof(), Person().urFunds(), Person().urInt()])\n",
    "#Migration\n",
    "#print (type(Migration))\n"
   ]
  },
  {
   "cell_type": "code",
   "execution_count": 60,
   "metadata": {},
   "outputs": [],
   "source": [
    "BigData=[]\n",
    "N=3\n",
    "for i in range(N):\n",
    "    #Migrations=[Person().urname(),Person().urage(),Person().foreign(),Person().Ho_Ad(),Person().Return_Yr(), Person().Social_Works(),Person().urprof(), Person().urFunds(), Person().urInt()]\n",
    "    BigData.append({\"Name\":Person().urname(),\\\n",
    "                    \"Age\":Person().urage(),\\\n",
    "                    \"Foreign Address\":Person().foreign(),\\\n",
    "                    \"Home Address\":Person().Ho_Ad(),\\\n",
    "                    \"Coming Back\":Person().Return_Yr(),\\\n",
    "                    \"Social Work\":Person().Social_Works(),\\\n",
    "                    \"Profession\":Person().urprof(),\\\n",
    "                    \"Funds Available\":Person().urFunds(),\\\n",
    "                    \"Intrests\":Person().urInt()\n",
    "                   })\n",
    "    i=i+1\n"
   ]
  },
  {
   "cell_type": "code",
   "execution_count": 61,
   "metadata": {
    "scrolled": true
   },
   "outputs": [
    {
     "name": "stdout",
     "output_type": "stream",
     "text": [
      "[{'Name': 'LZOWGRXK', 'Age': {24}, 'Foreign Address': {'Code': 'IM', 'Lat': '54.236107', 'Long': '-4.548056', 'FullName': 'Isle of Man\\n'}, 'Home Address': {'Province': 'PN1', 'District': 'Dhankuta', 'MCP/RM': 'Pakhribas MCP', 'Ward': 'Ward 10'}, 'Coming Back': {'Return Year': 2019}, 'Social Work': 'Build School', 'Profession': {'Occupation': ' Construction and Extraction Occupations', 'Specialization': '  Solar Photovoltaic Installers'}, 'Funds Available': {'Fund_Total': 52636, 'Agriculture': 15790.8, 'Utilites': 10527.2, 'Education': 10527.2, 'Share': 10527.2, 'Food': 5263.6}, 'Intrests': {'Agriculture(%)': 58.0, 'Politics(%)': 36.12, 'IT(%)': 4.12, 'Share(%)': 1.31, 'Food_Ind(%)': 0.46}}, {'Name': 'ODZEMJEY', 'Age': {57}, 'Foreign Address': {'Code': 'VN', 'Lat': '14.058324', 'Long': '108.277199', 'FullName': 'Vietnam\\n'}, 'Home Address': {'Province': 'PN5', 'District': 'Banke', 'MCP/RM': 'Raptisonari RM', 'Ward': 'Ward 5'}, 'Coming Back': {'Return Year': 2026}, 'Social Work': 'Flood Relief', 'Profession': {'Occupation': 'Community and Social Service Occupations', 'Specialization': '  Substance Abuse and Behavioral Disorder Counselors'}, 'Funds Available': {'Fund_Total': 88989, 'Agriculture': 26696.7, 'Utilites': 17797.8, 'Education': 17797.8, 'Share': 17797.8, 'Food': 8898.9}, 'Intrests': {'Agriculture(%)': 100.0, 'Politics(%)': 0.0, 'IT(%)': 0.0, 'Share(%)': 0.0, 'Food_Ind(%)': 0.0}}, {'Name': 'MABABVAQ', 'Age': {45}, 'Foreign Address': {'Code': 'AT', 'Lat': '47.516231', 'Long': '14.550072', 'FullName': 'Austria\\n'}, 'Home Address': {'Province': 'PN7', 'District': 'Doti', 'MCP/RM': 'Jorayal RM', 'Ward': 'Ward 3'}, 'Coming Back': {'Return Year': 2042}, 'Social Work': 'Flood Relief', 'Profession': {'Occupation': ' Construction and Extraction Occupations', 'Specialization': '  HelpersExtraction Workers'}, 'Funds Available': {'Fund_Total': 88435, 'Agriculture': 26530.5, 'Utilites': 17687.0, 'Education': 17687.0, 'Share': 17687.0, 'Food': 8843.5}, 'Intrests': {'Agriculture(%)': 88.0, 'Politics(%)': 11.28, 'IT(%)': 0.36, 'Share(%)': 0.07, 'Food_Ind(%)': 0.29}}]\n"
     ]
    }
   ],
   "source": [
    "#pd.set_option('display.max_columns', None)  # or 1000\n",
    "#print (type(BigData))\n",
    "print (BigData)\n",
    "#BigData.to_json('temp.json',orient='table')"
   ]
  },
  {
   "cell_type": "code",
   "execution_count": null,
   "metadata": {},
   "outputs": [],
   "source": []
  },
  {
   "cell_type": "code",
   "execution_count": null,
   "metadata": {},
   "outputs": [],
   "source": []
  }
 ],
 "metadata": {
  "kernelspec": {
   "display_name": "Python 3",
   "language": "python",
   "name": "python3"
  },
  "language_info": {
   "codemirror_mode": {
    "name": "ipython",
    "version": 3
   },
   "file_extension": ".py",
   "mimetype": "text/x-python",
   "name": "python",
   "nbconvert_exporter": "python",
   "pygments_lexer": "ipython3",
   "version": "3.7.1"
  }
 },
 "nbformat": 4,
 "nbformat_minor": 2
}
